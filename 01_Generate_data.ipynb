{
  "nbformat": 4,
  "nbformat_minor": 0,
  "metadata": {
    "colab": {
      "name": "01.Generate_data",
      "provenance": [],
      "include_colab_link": true
    },
    "kernelspec": {
      "name": "python3",
      "display_name": "Python 3"
    }
  },
  "cells": [
    {
      "cell_type": "markdown",
      "metadata": {
        "id": "view-in-github",
        "colab_type": "text"
      },
      "source": [
        "<a href=\"https://colab.research.google.com/github/zyntonyson/Erisk2017/blob/master/01_Generate_data.ipynb\" target=\"_parent\"><img src=\"https://colab.research.google.com/assets/colab-badge.svg\" alt=\"Open In Colab\"/></a>"
      ]
    },
    {
      "cell_type": "code",
      "metadata": {
        "id": "mxreleUzhc7e",
        "colab_type": "code",
        "outputId": "5e775ae3-db78-4fa9-9e3c-ec50377403c9",
        "colab": {
          "base_uri": "https://localhost:8080/",
          "height": 118
        }
      },
      "source": [
        "from google.colab import drive\n",
        "drive.mount('/content/drive')"
      ],
      "execution_count": 0,
      "outputs": [
        {
          "output_type": "stream",
          "text": [
            "Go to this URL in a browser: https://accounts.google.com/o/oauth2/auth?client_id=947318989803-6bn6qk8qdgf4n4g3pfee6491hc0brc4i.apps.googleusercontent.com&redirect_uri=urn%3Aietf%3Awg%3Aoauth%3A2.0%3Aoob&scope=email%20https%3A%2F%2Fwww.googleapis.com%2Fauth%2Fdocs.test%20https%3A%2F%2Fwww.googleapis.com%2Fauth%2Fdrive%20https%3A%2F%2Fwww.googleapis.com%2Fauth%2Fdrive.photos.readonly%20https%3A%2F%2Fwww.googleapis.com%2Fauth%2Fpeopleapi.readonly&response_type=code\n",
            "\n",
            "Enter your authorization code:\n",
            "··········\n",
            "Mounted at /content/drive\n"
          ],
          "name": "stdout"
        }
      ]
    },
    {
      "cell_type": "code",
      "metadata": {
        "id": "BzOuCj5Xhn4x",
        "colab_type": "code",
        "colab": {}
      },
      "source": [
        "import os\n",
        "import pandas as pd\n",
        "import numpy as np\n",
        "\n",
        "mypath='/content/drive/My Drive/MCE/Participaciones/05.Estancia Jun19/Practicas NLP/Deteccion de depresion/Actualizacion sep 2019'\n",
        "os.chdir( mypath )\n"
      ],
      "execution_count": 0,
      "outputs": []
    },
    {
      "cell_type": "code",
      "metadata": {
        "id": "3B1XqDX6hKKR",
        "colab_type": "code",
        "colab": {}
      },
      "source": [
        "train_df=pd.read_csv('train_Depression_all_chunks_nosteem.csv')\n",
        "train_df=train_df.replace(np.nan, '', regex=True)\n",
        "test_df=pd.read_csv('test_Depression_all_chunks_nosteem.csv')\n",
        "test_df=test_df.replace(np.nan, '', regex=True)"
      ],
      "execution_count": 0,
      "outputs": []
    },
    {
      "cell_type": "code",
      "metadata": {
        "id": "GX4u_6wNh5BS",
        "colab_type": "code",
        "colab": {}
      },
      "source": [
        "def generate_data(df,nchunks=1):\n",
        "  data=df['Chunk_1']\n",
        "  data.rename(columns={'Chunk_1': 'x'})\n",
        "  if nchunks<=1:\n",
        "   pass\n",
        "  else:\n",
        "    for i in range(2,nchunks):\n",
        "      chunk='Chunk_'+str(i)\n",
        "      data+=df[chunk]\n",
        "  return pd.DataFrame({'X':data})\n"
      ],
      "execution_count": 0,
      "outputs": []
    }
  ]
}