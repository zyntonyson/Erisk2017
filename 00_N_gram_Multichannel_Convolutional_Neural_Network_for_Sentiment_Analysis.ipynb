{
  "nbformat": 4,
  "nbformat_minor": 0,
  "metadata": {
    "colab": {
      "name": "00. N-gram Multichannel Convolutional Neural Network for Sentiment Analysis",
      "provenance": [],
      "include_colab_link": true
    },
    "kernelspec": {
      "name": "python3",
      "display_name": "Python 3"
    },
    "accelerator": "GPU"
  },
  "cells": [
    {
      "cell_type": "markdown",
      "metadata": {
        "id": "view-in-github",
        "colab_type": "text"
      },
      "source": [
        "<a href=\"https://colab.research.google.com/github/zyntonyson/Erisk2017/blob/master/00_N_gram_Multichannel_Convolutional_Neural_Network_for_Sentiment_Analysis.ipynb\" target=\"_parent\"><img src=\"https://colab.research.google.com/assets/colab-badge.svg\" alt=\"Open In Colab\"/></a>"
      ]
    },
    {
      "cell_type": "code",
      "metadata": {
        "id": "EY1esq_XetOv",
        "colab_type": "code",
        "outputId": "d6fb09ee-6f5e-48bb-951e-d377e737db97",
        "colab": {
          "base_uri": "https://localhost:8080/",
          "height": 34
        }
      },
      "source": [
        "from google.colab import drive\n",
        "drive.mount('/content/drive')"
      ],
      "execution_count": 0,
      "outputs": [
        {
          "output_type": "stream",
          "text": [
            "Drive already mounted at /content/drive; to attempt to forcibly remount, call drive.mount(\"/content/drive\", force_remount=True).\n"
          ],
          "name": "stdout"
        }
      ]
    },
    {
      "cell_type": "markdown",
      "metadata": {
        "id": "ieQMqoCMew9E",
        "colab_type": "text"
      },
      "source": [
        ""
      ]
    },
    {
      "cell_type": "code",
      "metadata": {
        "id": "MSNhQA8Pe1aD",
        "colab_type": "code",
        "colab": {}
      },
      "source": [
        "#Cargar datos \n",
        "import pandas as pd\n",
        "DATA_PATH='/content/drive/My Drive/MCE/Participaciones/04.Diplomado Deep Learning/proyecto/data/'\n",
        "\n",
        "\n",
        "df_train = pd.read_csv(DATA_PATH + 'train.csv', sep=',', header=0)\n",
        "df_train = df_train[df_train['post'].notnull()]\n",
        "\n",
        "df_test = pd.read_csv(DATA_PATH + 'test.csv', sep=',', header=0)\n",
        "df_test = df_test[df_test['post'].notnull()]"
      ],
      "execution_count": 0,
      "outputs": []
    },
    {
      "cell_type": "code",
      "metadata": {
        "id": "aNnICdepfN_7",
        "colab_type": "code",
        "colab": {}
      },
      "source": [
        "#Separar datos de entrenamiento\n",
        "corp_train=df_train['post'].tolist()\n",
        "y_train=df_train['Depression'].tolist()\n"
      ],
      "execution_count": 0,
      "outputs": []
    },
    {
      "cell_type": "code",
      "metadata": {
        "id": "oMzCAX7D3aOs",
        "colab_type": "code",
        "colab": {}
      },
      "source": [
        "#Separar datos de prueba\n",
        "corp_test=df_test['post'].tolist()\n",
        "y_test=df_test['Depression'].tolist()"
      ],
      "execution_count": 0,
      "outputs": []
    },
    {
      "cell_type": "code",
      "metadata": {
        "id": "HaF3bVAzV0wC",
        "colab_type": "code",
        "outputId": "09a74206-cd96-4e0b-ce36-6499c42d2234",
        "colab": {
          "base_uri": "https://localhost:8080/",
          "height": 34
        }
      },
      "source": [
        "#Métricas\n",
        "\n",
        "from keras import backend as K\n",
        "\n",
        "def recall_m(y_true, y_pred):\n",
        "        true_positives = K.sum(K.round(K.clip(y_true * y_pred, 0, 1)))\n",
        "        possible_positives = K.sum(K.round(K.clip(y_true, 0, 1)))\n",
        "        recall = true_positives / (possible_positives + K.epsilon())\n",
        "        return recall\n",
        "\n",
        "def precision_m(y_true, y_pred):\n",
        "        true_positives = K.sum(K.round(K.clip(y_true * y_pred, 0, 1)))\n",
        "        predicted_positives = K.sum(K.round(K.clip(y_pred, 0, 1)))\n",
        "        precision = true_positives / (predicted_positives + K.epsilon())\n",
        "        return precision\n",
        "\n",
        "def f1_m(y_true, y_pred):\n",
        "    precision = precision_m(y_true, y_pred)\n",
        "    recall = recall_m(y_true, y_pred)\n",
        "    return 2*((precision*recall)/(precision+recall+K.epsilon()))\n"
      ],
      "execution_count": 0,
      "outputs": [
        {
          "output_type": "stream",
          "text": [
            "Using TensorFlow backend.\n"
          ],
          "name": "stderr"
        }
      ]
    },
    {
      "cell_type": "code",
      "metadata": {
        "id": "tQia7NWekBLP",
        "colab_type": "code",
        "outputId": "ee7b78f1-b1bd-43cb-c7d8-17e77f88cf03",
        "colab": {
          "base_uri": "https://localhost:8080/",
          "height": 68
        }
      },
      "source": [
        "from pickle import load\n",
        "from numpy import array\n",
        "from keras.preprocessing.text import Tokenizer\n",
        "from keras.preprocessing.sequence import pad_sequences\n",
        "from keras.utils.vis_utils import plot_model\n",
        "from keras.models import Model\n",
        "from keras.layers import Input\n",
        "from keras.layers import Dense\n",
        "from keras.layers import Flatten\n",
        "from keras.layers import Dropout\n",
        "from keras.layers import Embedding\n",
        "from keras.layers.convolutional import Conv1D\n",
        "from keras.layers.convolutional import MaxPooling1D\n",
        "from keras.layers.merge import concatenate\n",
        "\n",
        "\n",
        "# fit a tokenizer\n",
        "def create_tokenizer(lines):\n",
        "\ttokenizer = Tokenizer()\n",
        "\ttokenizer.fit_on_texts(lines)\n",
        "\treturn tokenizer\n",
        "\n",
        "# calculate the maximum document length\n",
        "def max_length(lines):\n",
        "\treturn max([len(s.split()) for s in lines])\n",
        "\n",
        "# encode a list of lines\n",
        "def encode_text(tokenizer, lines, length):\n",
        "\t# integer encode\n",
        "\tencoded = tokenizer.texts_to_sequences(lines)\n",
        "\t# pad encoded sequences\n",
        "\tpadded = pad_sequences(encoded, maxlen=length, padding='post')\n",
        "\treturn padded\n",
        "\n",
        "# define the model\n",
        "def define_model(length, vocab_size):\n",
        "  # channel 1\n",
        "  inputs1 = Input(shape=(length,))\n",
        "  embedding1 = Embedding(vocab_size, 100)(inputs1)\n",
        "  conv1 = Conv1D(filters=32, kernel_size=4, activation='relu')(embedding1)\n",
        "  drop1 = Dropout(0.5)(conv1)\n",
        "  pool1 = MaxPooling1D(pool_size=2)(drop1)\n",
        "  flat1 = Flatten()(pool1)\n",
        "  # channel 2\n",
        "  inputs2 = Input(shape=(length,))\n",
        "  embedding2 = Embedding(vocab_size, 100)(inputs2)\n",
        "  conv2 = Conv1D(filters=32, kernel_size=6, activation='relu')(embedding2)\n",
        "  drop2 = Dropout(0.5)(conv2)\n",
        "  pool2 = MaxPooling1D(pool_size=2)(drop2)\n",
        "  flat2 = Flatten()(pool2)\n",
        "  # channel 3\n",
        "  inputs3 = Input(shape=(length,))\n",
        "  embedding3 = Embedding(vocab_size, 100)(inputs3)\n",
        "  conv3 = Conv1D(filters=32, kernel_size=8, activation='relu')(embedding3)\n",
        "  drop3 = Dropout(0.5)(conv3)\n",
        "  pool3 = MaxPooling1D(pool_size=2)(drop3)\n",
        "  flat3 = Flatten()(pool3)\n",
        "  # merge\n",
        "  merged = concatenate([flat1, flat2, flat3])\n",
        "  # interpretation\n",
        "  dense1 = Dense(10, activation='relu')(merged)\n",
        "  outputs = Dense(1, activation='sigmoid')(dense1)\n",
        "  model = Model(inputs=[inputs1, inputs2, inputs3], outputs=outputs)\n",
        "  # compile\n",
        "  model.compile(loss='binary_crossentropy', optimizer='adam', metrics=['accuracy',f1_m,precision_m, recall_m])\n",
        "  # summarize\n",
        "  print(model.summary())\n",
        "  plot_model(model, show_shapes=True, to_file=DATA_PATH+'multichannel1.png',rankdir='TB')\n",
        "  plot_model(model, show_shapes=True, to_file=DATA_PATH+'multichannel2.png',rankdir='LR')\n",
        "  return model\n",
        "\n",
        "\n",
        "# create tokenizer\n",
        "tokenizer = create_tokenizer(corp_train)\n",
        "# calculate max document length\n",
        "length = max_length(corp_train)\n",
        "# calculate vocabulary size\n",
        "vocab_size = len(tokenizer.word_index) + 1\n",
        "print('Max document length: %d' % length)\n",
        "print('Vocabulary size: %d' % vocab_size)\n",
        "\n",
        "# encode data\n",
        "trainX = encode_text(tokenizer, corp_train, length)\n",
        "print(trainX.shape)\n",
        "\n"
      ],
      "execution_count": 0,
      "outputs": [
        {
          "output_type": "stream",
          "text": [
            "Max document length: 54358\n",
            "Vocabulary size: 95525\n",
            "(485, 54358)\n"
          ],
          "name": "stdout"
        }
      ]
    },
    {
      "cell_type": "code",
      "metadata": {
        "id": "wGyvfjXTzoz_",
        "colab_type": "code",
        "outputId": "55233fb0-40ba-44d1-da01-705ed8aec135",
        "colab": {
          "base_uri": "https://localhost:8080/",
          "height": 1000
        }
      },
      "source": [
        "\n",
        "# define model\n",
        "model = define_model(length, vocab_size)\n",
        "# fit model\n",
        "hist=model.fit([trainX,trainX,trainX], array(y_train), epochs=100, batch_size=16)\n",
        "# save the model\n",
        "#model.save(DATA_PATH+'model.h5')\n"
      ],
      "execution_count": 0,
      "outputs": [
        {
          "output_type": "stream",
          "text": [
            "WARNING: Logging before flag parsing goes to stderr.\n",
            "W0704 22:30:28.172665 139668277467008 deprecation_wrapper.py:119] From /usr/local/lib/python3.6/dist-packages/keras/backend/tensorflow_backend.py:74: The name tf.get_default_graph is deprecated. Please use tf.compat.v1.get_default_graph instead.\n",
            "\n",
            "W0704 22:30:28.190433 139668277467008 deprecation_wrapper.py:119] From /usr/local/lib/python3.6/dist-packages/keras/backend/tensorflow_backend.py:517: The name tf.placeholder is deprecated. Please use tf.compat.v1.placeholder instead.\n",
            "\n",
            "W0704 22:30:28.193280 139668277467008 deprecation_wrapper.py:119] From /usr/local/lib/python3.6/dist-packages/keras/backend/tensorflow_backend.py:4138: The name tf.random_uniform is deprecated. Please use tf.random.uniform instead.\n",
            "\n",
            "W0704 22:30:28.219532 139668277467008 deprecation_wrapper.py:119] From /usr/local/lib/python3.6/dist-packages/keras/backend/tensorflow_backend.py:133: The name tf.placeholder_with_default is deprecated. Please use tf.compat.v1.placeholder_with_default instead.\n",
            "\n",
            "W0704 22:30:28.227851 139668277467008 deprecation.py:506] From /usr/local/lib/python3.6/dist-packages/keras/backend/tensorflow_backend.py:3445: calling dropout (from tensorflow.python.ops.nn_ops) with keep_prob is deprecated and will be removed in a future version.\n",
            "Instructions for updating:\n",
            "Please use `rate` instead of `keep_prob`. Rate should be set to `rate = 1 - keep_prob`.\n",
            "W0704 22:30:28.243085 139668277467008 deprecation_wrapper.py:119] From /usr/local/lib/python3.6/dist-packages/keras/backend/tensorflow_backend.py:3976: The name tf.nn.max_pool is deprecated. Please use tf.nn.max_pool2d instead.\n",
            "\n",
            "W0704 22:30:28.372596 139668277467008 deprecation_wrapper.py:119] From /usr/local/lib/python3.6/dist-packages/keras/optimizers.py:790: The name tf.train.Optimizer is deprecated. Please use tf.compat.v1.train.Optimizer instead.\n",
            "\n",
            "W0704 22:30:28.393292 139668277467008 deprecation_wrapper.py:119] From /usr/local/lib/python3.6/dist-packages/keras/backend/tensorflow_backend.py:3376: The name tf.log is deprecated. Please use tf.math.log instead.\n",
            "\n",
            "W0704 22:30:28.399445 139668277467008 deprecation.py:323] From /usr/local/lib/python3.6/dist-packages/tensorflow/python/ops/nn_impl.py:180: add_dispatch_support.<locals>.wrapper (from tensorflow.python.ops.array_ops) is deprecated and will be removed in a future version.\n",
            "Instructions for updating:\n",
            "Use tf.where in 2.0, which has the same broadcast rule as np.where\n"
          ],
          "name": "stderr"
        },
        {
          "output_type": "stream",
          "text": [
            "__________________________________________________________________________________________________\n",
            "Layer (type)                    Output Shape         Param #     Connected to                     \n",
            "==================================================================================================\n",
            "input_1 (InputLayer)            (None, 54358)        0                                            \n",
            "__________________________________________________________________________________________________\n",
            "input_2 (InputLayer)            (None, 54358)        0                                            \n",
            "__________________________________________________________________________________________________\n",
            "input_3 (InputLayer)            (None, 54358)        0                                            \n",
            "__________________________________________________________________________________________________\n",
            "embedding_1 (Embedding)         (None, 54358, 100)   9552500     input_1[0][0]                    \n",
            "__________________________________________________________________________________________________\n",
            "embedding_2 (Embedding)         (None, 54358, 100)   9552500     input_2[0][0]                    \n",
            "__________________________________________________________________________________________________\n",
            "embedding_3 (Embedding)         (None, 54358, 100)   9552500     input_3[0][0]                    \n",
            "__________________________________________________________________________________________________\n",
            "conv1d_1 (Conv1D)               (None, 54355, 32)    12832       embedding_1[0][0]                \n",
            "__________________________________________________________________________________________________\n",
            "conv1d_2 (Conv1D)               (None, 54353, 32)    19232       embedding_2[0][0]                \n",
            "__________________________________________________________________________________________________\n",
            "conv1d_3 (Conv1D)               (None, 54351, 32)    25632       embedding_3[0][0]                \n",
            "__________________________________________________________________________________________________\n",
            "dropout_1 (Dropout)             (None, 54355, 32)    0           conv1d_1[0][0]                   \n",
            "__________________________________________________________________________________________________\n",
            "dropout_2 (Dropout)             (None, 54353, 32)    0           conv1d_2[0][0]                   \n",
            "__________________________________________________________________________________________________\n",
            "dropout_3 (Dropout)             (None, 54351, 32)    0           conv1d_3[0][0]                   \n",
            "__________________________________________________________________________________________________\n",
            "max_pooling1d_1 (MaxPooling1D)  (None, 27177, 32)    0           dropout_1[0][0]                  \n",
            "__________________________________________________________________________________________________\n",
            "max_pooling1d_2 (MaxPooling1D)  (None, 27176, 32)    0           dropout_2[0][0]                  \n",
            "__________________________________________________________________________________________________\n",
            "max_pooling1d_3 (MaxPooling1D)  (None, 27175, 32)    0           dropout_3[0][0]                  \n",
            "__________________________________________________________________________________________________\n",
            "flatten_1 (Flatten)             (None, 869664)       0           max_pooling1d_1[0][0]            \n",
            "__________________________________________________________________________________________________\n",
            "flatten_2 (Flatten)             (None, 869632)       0           max_pooling1d_2[0][0]            \n",
            "__________________________________________________________________________________________________\n",
            "flatten_3 (Flatten)             (None, 869600)       0           max_pooling1d_3[0][0]            \n",
            "__________________________________________________________________________________________________\n",
            "concatenate_1 (Concatenate)     (None, 2608896)      0           flatten_1[0][0]                  \n",
            "                                                                 flatten_2[0][0]                  \n",
            "                                                                 flatten_3[0][0]                  \n",
            "__________________________________________________________________________________________________\n",
            "dense_1 (Dense)                 (None, 10)           26088970    concatenate_1[0][0]              \n",
            "__________________________________________________________________________________________________\n",
            "dense_2 (Dense)                 (None, 1)            11          dense_1[0][0]                    \n",
            "==================================================================================================\n",
            "Total params: 54,804,177\n",
            "Trainable params: 54,804,177\n",
            "Non-trainable params: 0\n",
            "__________________________________________________________________________________________________\n",
            "None\n",
            "Epoch 1/100\n",
            "485/485 [==============================] - 14s 30ms/step - loss: 2.6483 - acc: 0.8206 - f1_m: 0.0141 - precision_m: 0.0099 - recall_m: 0.0247\n",
            "Epoch 2/100\n",
            "485/485 [==============================] - 10s 20ms/step - loss: 2.7584 - acc: 0.8289 - f1_m: 0.0000e+00 - precision_m: 0.0000e+00 - recall_m: 0.0000e+00\n",
            "Epoch 3/100\n",
            "485/485 [==============================] - 10s 20ms/step - loss: 2.7584 - acc: 0.8289 - f1_m: 0.0000e+00 - precision_m: 0.0000e+00 - recall_m: 0.0000e+00\n",
            "Epoch 4/100\n",
            "485/485 [==============================] - 10s 20ms/step - loss: 2.7584 - acc: 0.8289 - f1_m: 0.0000e+00 - precision_m: 0.0000e+00 - recall_m: 0.0000e+00\n",
            "Epoch 5/100\n",
            "485/485 [==============================] - 10s 20ms/step - loss: 2.7584 - acc: 0.8289 - f1_m: 0.0000e+00 - precision_m: 0.0000e+00 - recall_m: 0.0000e+00\n",
            "Epoch 6/100\n",
            "485/485 [==============================] - 10s 20ms/step - loss: 2.7584 - acc: 0.8289 - f1_m: 0.0000e+00 - precision_m: 0.0000e+00 - recall_m: 0.0000e+00\n",
            "Epoch 7/100\n",
            "485/485 [==============================] - 10s 20ms/step - loss: 2.7584 - acc: 0.8289 - f1_m: 0.0000e+00 - precision_m: 0.0000e+00 - recall_m: 0.0000e+00\n",
            "Epoch 8/100\n",
            "485/485 [==============================] - 10s 20ms/step - loss: 2.7584 - acc: 0.8289 - f1_m: 0.0000e+00 - precision_m: 0.0000e+00 - recall_m: 0.0000e+00\n",
            "Epoch 9/100\n",
            "485/485 [==============================] - 10s 20ms/step - loss: 2.7584 - acc: 0.8289 - f1_m: 0.0000e+00 - precision_m: 0.0000e+00 - recall_m: 0.0000e+00\n",
            "Epoch 10/100\n",
            "485/485 [==============================] - 10s 20ms/step - loss: 2.7584 - acc: 0.8289 - f1_m: 0.0000e+00 - precision_m: 0.0000e+00 - recall_m: 0.0000e+00\n",
            "Epoch 11/100\n",
            "485/485 [==============================] - 10s 20ms/step - loss: 2.7584 - acc: 0.8289 - f1_m: 0.0000e+00 - precision_m: 0.0000e+00 - recall_m: 0.0000e+00\n",
            "Epoch 12/100\n",
            "485/485 [==============================] - 10s 20ms/step - loss: 2.7584 - acc: 0.8289 - f1_m: 0.0000e+00 - precision_m: 0.0000e+00 - recall_m: 0.0000e+00\n",
            "Epoch 13/100\n",
            "485/485 [==============================] - 10s 20ms/step - loss: 2.7584 - acc: 0.8289 - f1_m: 0.0000e+00 - precision_m: 0.0000e+00 - recall_m: 0.0000e+00\n",
            "Epoch 14/100\n",
            "485/485 [==============================] - 10s 20ms/step - loss: 2.7584 - acc: 0.8289 - f1_m: 0.0000e+00 - precision_m: 0.0000e+00 - recall_m: 0.0000e+00\n",
            "Epoch 15/100\n",
            "485/485 [==============================] - 10s 20ms/step - loss: 2.7584 - acc: 0.8289 - f1_m: 0.0000e+00 - precision_m: 0.0000e+00 - recall_m: 0.0000e+00\n",
            "Epoch 16/100\n",
            "485/485 [==============================] - 10s 20ms/step - loss: 2.7584 - acc: 0.8289 - f1_m: 0.0000e+00 - precision_m: 0.0000e+00 - recall_m: 0.0000e+00\n",
            "Epoch 17/100\n",
            "485/485 [==============================] - 10s 20ms/step - loss: 2.7584 - acc: 0.8289 - f1_m: 0.0000e+00 - precision_m: 0.0000e+00 - recall_m: 0.0000e+00\n",
            "Epoch 18/100\n",
            "485/485 [==============================] - 10s 21ms/step - loss: 2.7584 - acc: 0.8289 - f1_m: 0.0000e+00 - precision_m: 0.0000e+00 - recall_m: 0.0000e+00\n",
            "Epoch 19/100\n",
            "485/485 [==============================] - 10s 20ms/step - loss: 2.7584 - acc: 0.8289 - f1_m: 0.0000e+00 - precision_m: 0.0000e+00 - recall_m: 0.0000e+00\n",
            "Epoch 20/100\n",
            "485/485 [==============================] - 10s 21ms/step - loss: 2.7584 - acc: 0.8289 - f1_m: 0.0000e+00 - precision_m: 0.0000e+00 - recall_m: 0.0000e+00\n",
            "Epoch 21/100\n",
            "485/485 [==============================] - 10s 21ms/step - loss: 2.7584 - acc: 0.8289 - f1_m: 0.0000e+00 - precision_m: 0.0000e+00 - recall_m: 0.0000e+00\n",
            "Epoch 22/100\n",
            "485/485 [==============================] - 10s 21ms/step - loss: 2.7584 - acc: 0.8289 - f1_m: 0.0000e+00 - precision_m: 0.0000e+00 - recall_m: 0.0000e+00\n",
            "Epoch 23/100\n",
            "485/485 [==============================] - 10s 21ms/step - loss: 2.7584 - acc: 0.8289 - f1_m: 0.0000e+00 - precision_m: 0.0000e+00 - recall_m: 0.0000e+00\n",
            "Epoch 24/100\n",
            "485/485 [==============================] - 10s 21ms/step - loss: 2.7584 - acc: 0.8289 - f1_m: 0.0000e+00 - precision_m: 0.0000e+00 - recall_m: 0.0000e+00\n",
            "Epoch 25/100\n",
            "485/485 [==============================] - 10s 21ms/step - loss: 2.7584 - acc: 0.8289 - f1_m: 0.0000e+00 - precision_m: 0.0000e+00 - recall_m: 0.0000e+00\n",
            "Epoch 26/100\n",
            "485/485 [==============================] - 10s 21ms/step - loss: 2.7584 - acc: 0.8289 - f1_m: 0.0000e+00 - precision_m: 0.0000e+00 - recall_m: 0.0000e+00\n",
            "Epoch 27/100\n",
            "485/485 [==============================] - 10s 21ms/step - loss: 2.7584 - acc: 0.8289 - f1_m: 0.0000e+00 - precision_m: 0.0000e+00 - recall_m: 0.0000e+00\n",
            "Epoch 28/100\n",
            "485/485 [==============================] - 10s 21ms/step - loss: 2.7584 - acc: 0.8289 - f1_m: 0.0000e+00 - precision_m: 0.0000e+00 - recall_m: 0.0000e+00\n",
            "Epoch 29/100\n",
            "485/485 [==============================] - 10s 21ms/step - loss: 2.7584 - acc: 0.8289 - f1_m: 0.0000e+00 - precision_m: 0.0000e+00 - recall_m: 0.0000e+00\n",
            "Epoch 30/100\n",
            "485/485 [==============================] - 10s 21ms/step - loss: 2.7584 - acc: 0.8289 - f1_m: 0.0000e+00 - precision_m: 0.0000e+00 - recall_m: 0.0000e+00\n",
            "Epoch 31/100\n",
            "485/485 [==============================] - 10s 21ms/step - loss: 2.7584 - acc: 0.8289 - f1_m: 0.0000e+00 - precision_m: 0.0000e+00 - recall_m: 0.0000e+00\n",
            "Epoch 32/100\n",
            "485/485 [==============================] - 10s 21ms/step - loss: 2.7584 - acc: 0.8289 - f1_m: 0.0000e+00 - precision_m: 0.0000e+00 - recall_m: 0.0000e+00\n",
            "Epoch 33/100\n",
            "485/485 [==============================] - 10s 21ms/step - loss: 2.7584 - acc: 0.8289 - f1_m: 0.0000e+00 - precision_m: 0.0000e+00 - recall_m: 0.0000e+00\n",
            "Epoch 34/100\n",
            "485/485 [==============================] - 10s 21ms/step - loss: 2.7584 - acc: 0.8289 - f1_m: 0.0000e+00 - precision_m: 0.0000e+00 - recall_m: 0.0000e+00\n",
            "Epoch 35/100\n",
            "485/485 [==============================] - 10s 21ms/step - loss: 2.7584 - acc: 0.8289 - f1_m: 0.0000e+00 - precision_m: 0.0000e+00 - recall_m: 0.0000e+00\n",
            "Epoch 36/100\n",
            "485/485 [==============================] - 10s 21ms/step - loss: 2.7584 - acc: 0.8289 - f1_m: 0.0000e+00 - precision_m: 0.0000e+00 - recall_m: 0.0000e+00\n",
            "Epoch 37/100\n",
            "485/485 [==============================] - 10s 21ms/step - loss: 2.7584 - acc: 0.8289 - f1_m: 0.0000e+00 - precision_m: 0.0000e+00 - recall_m: 0.0000e+00\n",
            "Epoch 38/100\n",
            "485/485 [==============================] - 10s 21ms/step - loss: 2.7584 - acc: 0.8289 - f1_m: 0.0000e+00 - precision_m: 0.0000e+00 - recall_m: 0.0000e+00\n",
            "Epoch 39/100\n",
            "485/485 [==============================] - 10s 21ms/step - loss: 2.7584 - acc: 0.8289 - f1_m: 0.0000e+00 - precision_m: 0.0000e+00 - recall_m: 0.0000e+00\n",
            "Epoch 40/100\n",
            "485/485 [==============================] - 10s 21ms/step - loss: 2.7584 - acc: 0.8289 - f1_m: 0.0000e+00 - precision_m: 0.0000e+00 - recall_m: 0.0000e+00\n",
            "Epoch 41/100\n",
            "485/485 [==============================] - 10s 21ms/step - loss: 2.7584 - acc: 0.8289 - f1_m: 0.0000e+00 - precision_m: 0.0000e+00 - recall_m: 0.0000e+00\n",
            "Epoch 42/100\n",
            "485/485 [==============================] - 10s 21ms/step - loss: 2.7584 - acc: 0.8289 - f1_m: 0.0000e+00 - precision_m: 0.0000e+00 - recall_m: 0.0000e+00\n",
            "Epoch 43/100\n",
            "485/485 [==============================] - 10s 21ms/step - loss: 2.7584 - acc: 0.8289 - f1_m: 0.0000e+00 - precision_m: 0.0000e+00 - recall_m: 0.0000e+00\n",
            "Epoch 44/100\n",
            "485/485 [==============================] - 10s 21ms/step - loss: 2.7584 - acc: 0.8289 - f1_m: 0.0000e+00 - precision_m: 0.0000e+00 - recall_m: 0.0000e+00\n",
            "Epoch 45/100\n",
            "485/485 [==============================] - 10s 21ms/step - loss: 2.7584 - acc: 0.8289 - f1_m: 0.0000e+00 - precision_m: 0.0000e+00 - recall_m: 0.0000e+00\n",
            "Epoch 46/100\n",
            "485/485 [==============================] - 10s 21ms/step - loss: 2.7584 - acc: 0.8289 - f1_m: 0.0000e+00 - precision_m: 0.0000e+00 - recall_m: 0.0000e+00\n",
            "Epoch 47/100\n",
            "485/485 [==============================] - 10s 21ms/step - loss: 2.7584 - acc: 0.8289 - f1_m: 0.0000e+00 - precision_m: 0.0000e+00 - recall_m: 0.0000e+00\n",
            "Epoch 48/100\n",
            "485/485 [==============================] - 10s 21ms/step - loss: 2.7584 - acc: 0.8289 - f1_m: 0.0000e+00 - precision_m: 0.0000e+00 - recall_m: 0.0000e+00\n",
            "Epoch 49/100\n",
            "485/485 [==============================] - 10s 21ms/step - loss: 2.7584 - acc: 0.8289 - f1_m: 0.0000e+00 - precision_m: 0.0000e+00 - recall_m: 0.0000e+00\n",
            "Epoch 50/100\n",
            "485/485 [==============================] - 10s 21ms/step - loss: 2.7584 - acc: 0.8289 - f1_m: 0.0000e+00 - precision_m: 0.0000e+00 - recall_m: 0.0000e+00\n",
            "Epoch 51/100\n",
            "485/485 [==============================] - 10s 21ms/step - loss: 2.7584 - acc: 0.8289 - f1_m: 0.0000e+00 - precision_m: 0.0000e+00 - recall_m: 0.0000e+00\n",
            "Epoch 52/100\n",
            "485/485 [==============================] - 10s 21ms/step - loss: 2.7584 - acc: 0.8289 - f1_m: 0.0000e+00 - precision_m: 0.0000e+00 - recall_m: 0.0000e+00\n",
            "Epoch 53/100\n",
            "485/485 [==============================] - 10s 21ms/step - loss: 2.7584 - acc: 0.8289 - f1_m: 0.0000e+00 - precision_m: 0.0000e+00 - recall_m: 0.0000e+00\n",
            "Epoch 54/100\n",
            "485/485 [==============================] - 10s 21ms/step - loss: 2.7584 - acc: 0.8289 - f1_m: 0.0000e+00 - precision_m: 0.0000e+00 - recall_m: 0.0000e+00\n",
            "Epoch 55/100\n",
            "485/485 [==============================] - 10s 21ms/step - loss: 2.7584 - acc: 0.8289 - f1_m: 0.0000e+00 - precision_m: 0.0000e+00 - recall_m: 0.0000e+00\n",
            "Epoch 56/100\n",
            "485/485 [==============================] - 10s 21ms/step - loss: 2.7584 - acc: 0.8289 - f1_m: 0.0000e+00 - precision_m: 0.0000e+00 - recall_m: 0.0000e+00\n",
            "Epoch 57/100\n",
            "485/485 [==============================] - 10s 21ms/step - loss: 2.7584 - acc: 0.8289 - f1_m: 0.0000e+00 - precision_m: 0.0000e+00 - recall_m: 0.0000e+00\n",
            "Epoch 58/100\n",
            "485/485 [==============================] - 10s 21ms/step - loss: 2.7584 - acc: 0.8289 - f1_m: 0.0000e+00 - precision_m: 0.0000e+00 - recall_m: 0.0000e+00\n",
            "Epoch 59/100\n",
            "485/485 [==============================] - 10s 21ms/step - loss: 2.7584 - acc: 0.8289 - f1_m: 0.0000e+00 - precision_m: 0.0000e+00 - recall_m: 0.0000e+00\n",
            "Epoch 60/100\n",
            "485/485 [==============================] - 10s 21ms/step - loss: 2.7584 - acc: 0.8289 - f1_m: 0.0000e+00 - precision_m: 0.0000e+00 - recall_m: 0.0000e+00\n",
            "Epoch 61/100\n",
            "485/485 [==============================] - 10s 21ms/step - loss: 2.7584 - acc: 0.8289 - f1_m: 0.0000e+00 - precision_m: 0.0000e+00 - recall_m: 0.0000e+00\n",
            "Epoch 62/100\n",
            "485/485 [==============================] - 10s 21ms/step - loss: 2.7584 - acc: 0.8289 - f1_m: 0.0000e+00 - precision_m: 0.0000e+00 - recall_m: 0.0000e+00\n",
            "Epoch 63/100\n",
            "485/485 [==============================] - 10s 21ms/step - loss: 2.7584 - acc: 0.8289 - f1_m: 0.0000e+00 - precision_m: 0.0000e+00 - recall_m: 0.0000e+00\n",
            "Epoch 64/100\n",
            "485/485 [==============================] - 10s 21ms/step - loss: 2.7584 - acc: 0.8289 - f1_m: 0.0000e+00 - precision_m: 0.0000e+00 - recall_m: 0.0000e+00\n",
            "Epoch 65/100\n",
            "485/485 [==============================] - 10s 21ms/step - loss: 2.7584 - acc: 0.8289 - f1_m: 0.0000e+00 - precision_m: 0.0000e+00 - recall_m: 0.0000e+00\n",
            "Epoch 66/100\n",
            "485/485 [==============================] - 10s 21ms/step - loss: 2.7584 - acc: 0.8289 - f1_m: 0.0000e+00 - precision_m: 0.0000e+00 - recall_m: 0.0000e+00\n",
            "Epoch 67/100\n",
            "485/485 [==============================] - 10s 21ms/step - loss: 2.7584 - acc: 0.8289 - f1_m: 0.0000e+00 - precision_m: 0.0000e+00 - recall_m: 0.0000e+00\n",
            "Epoch 68/100\n",
            "485/485 [==============================] - 10s 21ms/step - loss: 2.7584 - acc: 0.8289 - f1_m: 0.0000e+00 - precision_m: 0.0000e+00 - recall_m: 0.0000e+00\n",
            "Epoch 69/100\n",
            "485/485 [==============================] - 10s 21ms/step - loss: 2.7584 - acc: 0.8289 - f1_m: 0.0000e+00 - precision_m: 0.0000e+00 - recall_m: 0.0000e+00\n",
            "Epoch 70/100\n",
            "485/485 [==============================] - 10s 21ms/step - loss: 2.7584 - acc: 0.8289 - f1_m: 0.0000e+00 - precision_m: 0.0000e+00 - recall_m: 0.0000e+00\n",
            "Epoch 71/100\n",
            "485/485 [==============================] - 10s 21ms/step - loss: 2.7584 - acc: 0.8289 - f1_m: 0.0000e+00 - precision_m: 0.0000e+00 - recall_m: 0.0000e+00\n",
            "Epoch 72/100\n",
            "485/485 [==============================] - 10s 21ms/step - loss: 2.7584 - acc: 0.8289 - f1_m: 0.0000e+00 - precision_m: 0.0000e+00 - recall_m: 0.0000e+00\n",
            "Epoch 73/100\n",
            "485/485 [==============================] - 10s 21ms/step - loss: 2.7584 - acc: 0.8289 - f1_m: 0.0000e+00 - precision_m: 0.0000e+00 - recall_m: 0.0000e+00\n",
            "Epoch 74/100\n",
            "485/485 [==============================] - 10s 21ms/step - loss: 2.7584 - acc: 0.8289 - f1_m: 0.0000e+00 - precision_m: 0.0000e+00 - recall_m: 0.0000e+00\n",
            "Epoch 75/100\n",
            "485/485 [==============================] - 10s 20ms/step - loss: 2.7584 - acc: 0.8289 - f1_m: 0.0000e+00 - precision_m: 0.0000e+00 - recall_m: 0.0000e+00\n",
            "Epoch 76/100\n",
            "485/485 [==============================] - 10s 21ms/step - loss: 2.7584 - acc: 0.8289 - f1_m: 0.0000e+00 - precision_m: 0.0000e+00 - recall_m: 0.0000e+00\n",
            "Epoch 77/100\n",
            "485/485 [==============================] - 10s 21ms/step - loss: 2.7584 - acc: 0.8289 - f1_m: 0.0000e+00 - precision_m: 0.0000e+00 - recall_m: 0.0000e+00\n",
            "Epoch 78/100\n",
            "485/485 [==============================] - 10s 21ms/step - loss: 2.7584 - acc: 0.8289 - f1_m: 0.0000e+00 - precision_m: 0.0000e+00 - recall_m: 0.0000e+00\n",
            "Epoch 79/100\n",
            "485/485 [==============================] - 10s 21ms/step - loss: 2.7584 - acc: 0.8289 - f1_m: 0.0000e+00 - precision_m: 0.0000e+00 - recall_m: 0.0000e+00\n",
            "Epoch 80/100\n",
            "485/485 [==============================] - 10s 21ms/step - loss: 2.7584 - acc: 0.8289 - f1_m: 0.0000e+00 - precision_m: 0.0000e+00 - recall_m: 0.0000e+00\n",
            "Epoch 81/100\n",
            "485/485 [==============================] - 10s 21ms/step - loss: 2.7584 - acc: 0.8289 - f1_m: 0.0000e+00 - precision_m: 0.0000e+00 - recall_m: 0.0000e+00\n",
            "Epoch 82/100\n",
            "485/485 [==============================] - 10s 21ms/step - loss: 2.7584 - acc: 0.8289 - f1_m: 0.0000e+00 - precision_m: 0.0000e+00 - recall_m: 0.0000e+00\n",
            "Epoch 83/100\n",
            "485/485 [==============================] - 10s 21ms/step - loss: 2.7584 - acc: 0.8289 - f1_m: 0.0000e+00 - precision_m: 0.0000e+00 - recall_m: 0.0000e+00\n",
            "Epoch 84/100\n",
            "485/485 [==============================] - 10s 21ms/step - loss: 2.7584 - acc: 0.8289 - f1_m: 0.0000e+00 - precision_m: 0.0000e+00 - recall_m: 0.0000e+00\n",
            "Epoch 85/100\n",
            "485/485 [==============================] - 10s 21ms/step - loss: 2.7584 - acc: 0.8289 - f1_m: 0.0000e+00 - precision_m: 0.0000e+00 - recall_m: 0.0000e+00\n",
            "Epoch 86/100\n",
            "485/485 [==============================] - 10s 21ms/step - loss: 2.7584 - acc: 0.8289 - f1_m: 0.0000e+00 - precision_m: 0.0000e+00 - recall_m: 0.0000e+00\n",
            "Epoch 87/100\n",
            "485/485 [==============================] - 10s 21ms/step - loss: 2.7584 - acc: 0.8289 - f1_m: 0.0000e+00 - precision_m: 0.0000e+00 - recall_m: 0.0000e+00\n",
            "Epoch 88/100\n",
            "485/485 [==============================] - 10s 21ms/step - loss: 2.7584 - acc: 0.8289 - f1_m: 0.0000e+00 - precision_m: 0.0000e+00 - recall_m: 0.0000e+00\n",
            "Epoch 89/100\n",
            "485/485 [==============================] - 10s 21ms/step - loss: 2.7584 - acc: 0.8289 - f1_m: 0.0000e+00 - precision_m: 0.0000e+00 - recall_m: 0.0000e+00\n",
            "Epoch 90/100\n",
            "485/485 [==============================] - 10s 21ms/step - loss: 2.7584 - acc: 0.8289 - f1_m: 0.0000e+00 - precision_m: 0.0000e+00 - recall_m: 0.0000e+00\n",
            "Epoch 91/100\n",
            "485/485 [==============================] - 10s 21ms/step - loss: 2.7584 - acc: 0.8289 - f1_m: 0.0000e+00 - precision_m: 0.0000e+00 - recall_m: 0.0000e+00\n",
            "Epoch 92/100\n",
            "485/485 [==============================] - 10s 21ms/step - loss: 2.7584 - acc: 0.8289 - f1_m: 0.0000e+00 - precision_m: 0.0000e+00 - recall_m: 0.0000e+00\n",
            "Epoch 93/100\n",
            "485/485 [==============================] - 10s 21ms/step - loss: 2.7584 - acc: 0.8289 - f1_m: 0.0000e+00 - precision_m: 0.0000e+00 - recall_m: 0.0000e+00\n",
            "Epoch 94/100\n",
            "485/485 [==============================] - 10s 21ms/step - loss: 2.7584 - acc: 0.8289 - f1_m: 0.0000e+00 - precision_m: 0.0000e+00 - recall_m: 0.0000e+00\n",
            "Epoch 95/100\n",
            "485/485 [==============================] - 10s 21ms/step - loss: 2.7584 - acc: 0.8289 - f1_m: 0.0000e+00 - precision_m: 0.0000e+00 - recall_m: 0.0000e+00\n",
            "Epoch 96/100\n",
            "485/485 [==============================] - 10s 21ms/step - loss: 2.7584 - acc: 0.8289 - f1_m: 0.0000e+00 - precision_m: 0.0000e+00 - recall_m: 0.0000e+00\n",
            "Epoch 97/100\n",
            "485/485 [==============================] - 10s 21ms/step - loss: 2.7584 - acc: 0.8289 - f1_m: 0.0000e+00 - precision_m: 0.0000e+00 - recall_m: 0.0000e+00\n",
            "Epoch 98/100\n",
            "485/485 [==============================] - 10s 21ms/step - loss: 2.7584 - acc: 0.8289 - f1_m: 0.0000e+00 - precision_m: 0.0000e+00 - recall_m: 0.0000e+00\n",
            "Epoch 99/100\n",
            "485/485 [==============================] - 10s 21ms/step - loss: 2.7584 - acc: 0.8289 - f1_m: 0.0000e+00 - precision_m: 0.0000e+00 - recall_m: 0.0000e+00\n",
            "Epoch 100/100\n",
            "485/485 [==============================] - 10s 21ms/step - loss: 2.7584 - acc: 0.8289 - f1_m: 0.0000e+00 - precision_m: 0.0000e+00 - recall_m: 0.0000e+00\n"
          ],
          "name": "stdout"
        }
      ]
    },
    {
      "cell_type": "code",
      "metadata": {
        "id": "WGiIpiY03DgE",
        "colab_type": "code",
        "colab": {}
      },
      "source": [
        "# encode data\n",
        "testX = encode_text(tokenizer, corp_test, length)\n",
        "\n",
        "\n",
        "# evaluate model on training dataset\n",
        "#loss, acc = model.evaluate([trainX,trainX,trainX], array(y_train), verbose=0)\n",
        "#print('Train Accuracy: %f' % (acc*100))\n",
        "\n",
        "# evaluate model on test dataset dataset\n",
        "loss, accuracy, f1_score, precision, recall = model.evaluate([testX,testX,testX], array(y_test) , verbose=0)\n"
      ],
      "execution_count": 0,
      "outputs": []
    },
    {
      "cell_type": "code",
      "metadata": {
        "id": "ure8snUqcIRB",
        "colab_type": "code",
        "outputId": "7a41cc45-5b70-4097-faf7-cc74dbfc00fd",
        "colab": {
          "base_uri": "https://localhost:8080/",
          "height": 85
        }
      },
      "source": [
        "print('Test Accuracy: %f' % (accuracy*100))\n",
        "print('Test Precision: %f' % (precision*100))\n",
        "print('Test F1 Score: %f' % (f1_score*100))\n",
        "print('Test Recall: %f' % (recall*100))"
      ],
      "execution_count": 0,
      "outputs": [
        {
          "output_type": "stream",
          "text": [
            "Test Accuracy: 87.000000\n",
            "Test Precision: 0.000000\n",
            "Test F1 Score: 0.000000\n",
            "Test Recall: 0.000000\n"
          ],
          "name": "stdout"
        }
      ]
    },
    {
      "cell_type": "code",
      "metadata": {
        "id": "gY3am4m0Ft5h",
        "colab_type": "code",
        "outputId": "11e2d44f-208c-4180-8c56-bb26075a702a",
        "colab": {
          "base_uri": "https://localhost:8080/",
          "height": 295
        }
      },
      "source": [
        "%matplotlib inline\n",
        "from sklearn.metrics import confusion_matrix\n",
        "import seaborn as sns\n",
        "import matplotlib.pyplot as plt  \n",
        "import matplotlib as mpl\n",
        "\n",
        "def select_class(x):\n",
        "  if x>0.5:\n",
        "    return 1\n",
        "  else:\n",
        "    return 0\n",
        "\n",
        "\n",
        "predict_prob=model.predict([testX,testX,testX])\n",
        "predict_class=[select_class(prob) for prob in predict_prob]\n",
        "cm = confusion_matrix(y_test, predict_class)\n",
        "\n",
        "\n",
        "# Make an example plot with two subplots...\n",
        "fig2 = plt.figure()\n",
        "ax= plt.subplot()\n",
        "sns.heatmap(cm, annot=True, ax = ax); #annot=True to annotate cells\n",
        "\n",
        "# labels, title and ticks\n",
        "ax.set_xlabel('Predicted labels');ax.set_ylabel('True labels'); \n",
        "ax.set_title('Confusion Matrix'); \n",
        "ax.xaxis.set_ticklabels(['no depression', 'depression']); ax.yaxis.set_ticklabels(['no depression', 'depression']);\n",
        "fig2.savefig(DATA_PATH+'mc.png')\n"
      ],
      "execution_count": 0,
      "outputs": [
        {
          "output_type": "display_data",
          "data": {
            "image/png": "[encoded data removed]",
            "text/plain": [
              "<Figure size 432x288 with 2 Axes>"
            ]
          },
          "metadata": {
            "tags": []
          }
        }
      ]
    },
    {
      "cell_type": "markdown",
      "metadata": {
        "id": "g_afh2B69D--",
        "colab_type": "text"
      },
      "source": [
        "## Referencias\n",
        "\n",
        "https://machinelearningmastery.com/what-are-word-embeddings/\n",
        "\n",
        "https://machinelearningmastery.com/prepare-text-data-deep-learning-keras/\n",
        "\n",
        "https://machinelearningmastery.com/multi-class-classification-tutorial-keras-deep-learning-library/\n",
        "\n",
        "\n",
        "How to Develop an N-gram Multichannel Convolutional Neural Network for Sentiment Analysis (Text Classification)\n",
        "\n",
        "https://machinelearningmastery.com/develop-n-gram-multichannel-convolutional-neural-network-sentiment-analysis/"
      ]
    },
    {
      "cell_type": "code",
      "metadata": {
        "id": "mA1gmvzLKsoO",
        "colab_type": "code",
        "colab": {}
      },
      "source": [
        ""
      ],
      "execution_count": 0,
      "outputs": []
    }
  ]
}