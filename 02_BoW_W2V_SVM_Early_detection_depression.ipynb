{
  "nbformat": 4,
  "nbformat_minor": 0,
  "metadata": {
    "colab": {
      "name": "02.BoW-W2V-SVM- Early detection depression",
      "provenance": [],
      "include_colab_link": true
    },
    "kernelspec": {
      "name": "python3",
      "display_name": "Python 3"
    },
    "accelerator": "GPU"
  },
  "cells": [
    {
      "cell_type": "markdown",
      "metadata": {
        "id": "view-in-github",
        "colab_type": "text"
      },
      "source": [
        "<a href=\"https://colab.research.google.com/github/zyntonyson/Erisk2017/blob/master/02_BoW_W2V_SVM_Early_detection_depression.ipynb\" target=\"_parent\"><img src=\"https://colab.research.google.com/assets/colab-badge.svg\" alt=\"Open In Colab\"/></a>"
      ]
    },
    {
      "cell_type": "code",
      "metadata": {
        "id": "mYCM75VsIkuW",
        "colab_type": "code",
        "outputId": "d34617a7-c9e6-4890-a52f-bb9a868f52ad",
        "colab": {
          "base_uri": "https://localhost:8080/",
          "height": 125
        }
      },
      "source": [
        "from google.colab import drive\n",
        "drive.mount('/content/drive')"
      ],
      "execution_count": 0,
      "outputs": [
        {
          "output_type": "stream",
          "text": [
            "Go to this URL in a browser: https://accounts.google.com/o/oauth2/auth?client_id=947318989803-6bn6qk8qdgf4n4g3pfee6491hc0brc4i.apps.googleusercontent.com&redirect_uri=urn%3Aietf%3Awg%3Aoauth%3A2.0%3Aoob&scope=email%20https%3A%2F%2Fwww.googleapis.com%2Fauth%2Fdocs.test%20https%3A%2F%2Fwww.googleapis.com%2Fauth%2Fdrive%20https%3A%2F%2Fwww.googleapis.com%2Fauth%2Fdrive.photos.readonly%20https%3A%2F%2Fwww.googleapis.com%2Fauth%2Fpeopleapi.readonly&response_type=code\n",
            "\n",
            "Enter your authorization code:\n",
            "··········\n",
            "Mounted at /content/drive\n"
          ],
          "name": "stdout"
        }
      ]
    },
    {
      "cell_type": "markdown",
      "metadata": {
        "id": "luWAl-UPNR3F",
        "colab_type": "text"
      },
      "source": [
        "## Cargar datos\n",
        "\n",
        "\n"
      ]
    },
    {
      "cell_type": "code",
      "metadata": {
        "id": "51EhHuh9sCsR",
        "colab_type": "code",
        "colab": {}
      },
      "source": [
        "import os\n",
        "mypath='/content/drive/My Drive/MCE/Participaciones/05.Estancia Jun19/Practicas NLP/Deteccion de depresion/Actualizacion sep 2019'\n",
        "os.chdir( mypath )"
      ],
      "execution_count": 0,
      "outputs": []
    },
    {
      "cell_type": "code",
      "metadata": {
        "id": "yCVDhT0lpkza",
        "colab_type": "code",
        "colab": {}
      },
      "source": [
        "import pandas as pd\n",
        "import numpy as np\n",
        "\n",
        "train_df=pd.read_csv('train_Depression_all_chunks_nosteem.csv')\n",
        "train_df=train_df.replace(np.nan, '', regex=True)\n",
        "test_df=pd.read_csv('test_Depression_all_chunks_nosteem.csv')\n",
        "test_df=test_df.replace(np.nan, '', regex=True)"
      ],
      "execution_count": 0,
      "outputs": []
    },
    {
      "cell_type": "code",
      "metadata": {
        "id": "Bmdl3WQlvjex",
        "colab_type": "code",
        "colab": {}
      },
      "source": [
        "def generate_data(df,nchunks=1):\n",
        "  data=df['Chunk_1']\n",
        "  data.rename(columns={'Chunk_1': 'x'})\n",
        "  if nchunks<=1:\n",
        "   pass\n",
        "  else:\n",
        "    for i in range(2,nchunks):\n",
        "      chunk='Chunk_'+str(i)\n",
        "      data+=df[chunk]\n",
        "  return data.values"
      ],
      "execution_count": 0,
      "outputs": []
    },
    {
      "cell_type": "markdown",
      "metadata": {
        "id": "5hCpW3i8sfND",
        "colab_type": "text"
      },
      "source": [
        "\n",
        "\n",
        "## SVM-BoW\n"
      ]
    },
    {
      "cell_type": "code",
      "metadata": {
        "id": "3clZSjpHsopX",
        "colab_type": "code",
        "colab": {}
      },
      "source": [
        "from sklearn.feature_extraction.text import CountVectorizer\n",
        "from sklearn.svm import LinearSVC\n",
        "from sklearn import metrics\n",
        "import matplotlib.pyplot as plt\n",
        "%matplotlib inline\n",
        "import time"
      ],
      "execution_count": 0,
      "outputs": []
    },
    {
      "cell_type": "code",
      "metadata": {
        "id": "rn-quk2dt1xC",
        "colab_type": "code",
        "colab": {}
      },
      "source": [
        "def svm_bow(train,test,nChunks=1):\n",
        "\n",
        "  # Generar datos\n",
        "  x_train=generate_data(train,nChunks)\n",
        "  y_train=train['Depress'].values\n",
        "  x_test=generate_data(test,nChunks)\n",
        "  y_test=test['Depress'].values\n",
        " \n",
        " #  Ajustar clasificador\n",
        "  vectorizer=CountVectorizer( max_features=1000 )\n",
        "  clf = LinearSVC(tol=1e-5,C=1.0, class_weight='balanced', dual=True, fit_intercept=True,\n",
        "         intercept_scaling=1, loss='squared_hinge', max_iter=1000,\n",
        "         multi_class='ovr', penalty='l2', random_state=1013, verbose=2)\n",
        "  \n",
        "  # Realizar bolsa de palabras\n",
        "  X_train=vectorizer.fit_transform(x_train)\n",
        "  X_test=vectorizer.transform(x_test)\n",
        "\n",
        "  # Entrenar\n",
        "  clf.fit(X_train, y_train)\n",
        "\n",
        "  # Predecir para prueba\n",
        "\n",
        "  pred_test=clf.predict(X_test)\n",
        "\n",
        "  # Metricas\n",
        "  acc=metrics.accuracy_score(y_test,pred_test)\n",
        "  f1_score_w=metrics.f1_score(y_test,pred_test,average='weighted')\n",
        "  recall_score=metrics.recall_score(y_test,pred_test,average='macro')\n",
        "  \n",
        "  my_metrics=[nChunks,acc, f1_score_w,recall_score]\n",
        "  \n",
        "  return [round(metric,4) for metric in my_metrics]\n"
      ],
      "execution_count": 0,
      "outputs": []
    },
    {
      "cell_type": "code",
      "metadata": {
        "id": "3wC4z-ej1_7s",
        "colab_type": "code",
        "outputId": "4ede369b-50ab-4a20-b77d-788647ab44c5",
        "colab": {
          "base_uri": "https://localhost:8080/",
          "height": 33
        }
      },
      "source": [
        "bow_svm_metrics=np.zeros(shape=(10,4))\n",
        "\n",
        "for chunk in range(1,11):\n",
        "  tic=time.time()\n",
        "  bow_svm_metrics[chunk-1,]=svm_bow(train_df,test_df,chunk)\n",
        "  print('# Chunks: { } \\t Tiempo de procesamiento (secs):{} '.format(chunk,time.time()-tic))\n",
        "  "
      ],
      "execution_count": 0,
      "outputs": [
        {
          "output_type": "stream",
          "text": [
            "[LibLinear][LibLinear][LibLinear][LibLinear][LibLinear][LibLinear][LibLinear][LibLinear][LibLinear][LibLinear]"
          ],
          "name": "stdout"
        }
      ]
    },
    {
      "cell_type": "code",
      "metadata": {
        "id": "j7w6P5zl8D5a",
        "colab_type": "code",
        "outputId": "5cecd75b-b75d-49c8-c309-805398a1467e",
        "colab": {
          "base_uri": "https://localhost:8080/",
          "height": 335
        }
      },
      "source": [
        "BowSVM_metrics=pd.DataFrame(bow_svm_metrics, columns=['Chunk','Acc','F1Score','Recall'])\n",
        "BowSVM_metrics"
      ],
      "execution_count": 0,
      "outputs": [
        {
          "output_type": "execute_result",
          "data": {
            "text/html": [
              "<div>\n",
              "<style scoped>\n",
              "    .dataframe tbody tr th:only-of-type {\n",
              "        vertical-align: middle;\n",
              "    }\n",
              "\n",
              "    .dataframe tbody tr th {\n",
              "        vertical-align: top;\n",
              "    }\n",
              "\n",
              "    .dataframe thead th {\n",
              "        text-align: right;\n",
              "    }\n",
              "</style>\n",
              "<table border=\"1\" class=\"dataframe\">\n",
              "  <thead>\n",
              "    <tr style=\"text-align: right;\">\n",
              "      <th></th>\n",
              "      <th>Chunk</th>\n",
              "      <th>Acc</th>\n",
              "      <th>F1Score</th>\n",
              "      <th>Recall</th>\n",
              "    </tr>\n",
              "  </thead>\n",
              "  <tbody>\n",
              "    <tr>\n",
              "      <th>0</th>\n",
              "      <td>1.0</td>\n",
              "      <td>0.7905</td>\n",
              "      <td>0.8032</td>\n",
              "      <td>0.6096</td>\n",
              "    </tr>\n",
              "    <tr>\n",
              "      <th>1</th>\n",
              "      <td>2.0</td>\n",
              "      <td>0.7905</td>\n",
              "      <td>0.8032</td>\n",
              "      <td>0.6096</td>\n",
              "    </tr>\n",
              "    <tr>\n",
              "      <th>2</th>\n",
              "      <td>3.0</td>\n",
              "      <td>0.8080</td>\n",
              "      <td>0.8191</td>\n",
              "      <td>0.6442</td>\n",
              "    </tr>\n",
              "    <tr>\n",
              "      <th>3</th>\n",
              "      <td>4.0</td>\n",
              "      <td>0.8030</td>\n",
              "      <td>0.8155</td>\n",
              "      <td>0.6413</td>\n",
              "    </tr>\n",
              "    <tr>\n",
              "      <th>4</th>\n",
              "      <td>5.0</td>\n",
              "      <td>0.8005</td>\n",
              "      <td>0.8166</td>\n",
              "      <td>0.6645</td>\n",
              "    </tr>\n",
              "    <tr>\n",
              "      <th>5</th>\n",
              "      <td>6.0</td>\n",
              "      <td>0.8155</td>\n",
              "      <td>0.8245</td>\n",
              "      <td>0.6485</td>\n",
              "    </tr>\n",
              "    <tr>\n",
              "      <th>6</th>\n",
              "      <td>7.0</td>\n",
              "      <td>0.8155</td>\n",
              "      <td>0.8256</td>\n",
              "      <td>0.6567</td>\n",
              "    </tr>\n",
              "    <tr>\n",
              "      <th>7</th>\n",
              "      <td>8.0</td>\n",
              "      <td>0.8155</td>\n",
              "      <td>0.8256</td>\n",
              "      <td>0.6567</td>\n",
              "    </tr>\n",
              "    <tr>\n",
              "      <th>8</th>\n",
              "      <td>9.0</td>\n",
              "      <td>0.8155</td>\n",
              "      <td>0.8234</td>\n",
              "      <td>0.6403</td>\n",
              "    </tr>\n",
              "    <tr>\n",
              "      <th>9</th>\n",
              "      <td>10.0</td>\n",
              "      <td>0.8155</td>\n",
              "      <td>0.8234</td>\n",
              "      <td>0.6403</td>\n",
              "    </tr>\n",
              "  </tbody>\n",
              "</table>\n",
              "</div>"
            ],
            "text/plain": [
              "   Chunk     Acc  F1Score  Recall\n",
              "0    1.0  0.7905   0.8032  0.6096\n",
              "1    2.0  0.7905   0.8032  0.6096\n",
              "2    3.0  0.8080   0.8191  0.6442\n",
              "3    4.0  0.8030   0.8155  0.6413\n",
              "4    5.0  0.8005   0.8166  0.6645\n",
              "5    6.0  0.8155   0.8245  0.6485\n",
              "6    7.0  0.8155   0.8256  0.6567\n",
              "7    8.0  0.8155   0.8256  0.6567\n",
              "8    9.0  0.8155   0.8234  0.6403\n",
              "9   10.0  0.8155   0.8234  0.6403"
            ]
          },
          "metadata": {
            "tags": []
          },
          "execution_count": 52
        }
      ]
    },
    {
      "cell_type": "code",
      "metadata": {
        "id": "ce6V5JTJ8uiJ",
        "colab_type": "code",
        "outputId": "40bbd9a3-69bd-44a4-90a9-e3eee50f1be9",
        "colab": {
          "base_uri": "https://localhost:8080/",
          "height": 278
        }
      },
      "source": [
        "plt.style.use('seaborn-whitegrid')\n",
        "plt.plot(BowSVM_metrics.Chunk,BowSVM_metrics.Acc, label='Acc')\n",
        "plt.plot(BowSVM_metrics.Chunk,BowSVM_metrics.F1Score,label='F1')\n",
        "plt.plot(BowSVM_metrics.Chunk,BowSVM_metrics.Recall,label='Recall')\n",
        "plt.legend()"
      ],
      "execution_count": 0,
      "outputs": [
        {
          "output_type": "execute_result",
          "data": {
            "text/plain": [
              "<matplotlib.legend.Legend at 0x7f2e927f3dd8>"
            ]
          },
          "metadata": {
            "tags": []
          },
          "execution_count": 57
        },
        {
          "output_type": "display_data",
          "data": {
            "image/png": "[encoded data removed]",
            "text/plain": [
              "<Figure size 432x288 with 1 Axes>"
            ]
          },
          "metadata": {
            "tags": []
          }
        }
      ]
    },
    {
      "cell_type": "markdown",
      "metadata": {
        "id": "AVhByalAOPBs",
        "colab_type": "text"
      },
      "source": [
        "## SVM-Tf-Idf\n"
      ]
    },
    {
      "cell_type": "code",
      "metadata": {
        "id": "BCzRKWGpOM5V",
        "colab_type": "code",
        "colab": {}
      },
      "source": [
        "from sklearn.feature_extraction.text import TfidfVectorizer\n"
      ],
      "execution_count": 0,
      "outputs": []
    },
    {
      "cell_type": "code",
      "metadata": {
        "id": "xxvriyzLO5Rt",
        "colab_type": "code",
        "colab": {}
      },
      "source": [
        "def svm_tfidf(train,test,nChunks=1):\n",
        "  \n",
        "  # Generar datos\n",
        "  x_train=generate_data(train,nChunks)\n",
        "  y_train=train['Depress'].values\n",
        "  x_test=generate_data(test,nChunks)\n",
        "  y_test=test['Depress'].values\n",
        " \n",
        " #  Ajustar clasificador\n",
        "  vectorizer = TfidfVectorizer(min_df=0.05, max_df=0.95)\n",
        "  clf = LinearSVC(tol=1e-5,C=1.0, class_weight='balanced', dual=True, fit_intercept=True,\n",
        "         intercept_scaling=1, loss='squared_hinge', max_iter=1000,\n",
        "         multi_class='ovr', penalty='l2', random_state=1013, verbose=2)\n",
        "  \n",
        "  # Realizar Tf-Idf\n",
        "  X_train=vectorizer.fit_transform(x_train)\n",
        "  X_test=vectorizer.transform(x_test)\n",
        "\n",
        "  # Entrenar\n",
        "  clf.fit(X_train, y_train)\n",
        "\n",
        "  # Predecir para prueba\n",
        "\n",
        "  pred_test=clf.predict(X_test)\n",
        "\n",
        "  # Metricas\n",
        "  acc=metrics.accuracy_score(y_test,pred_test)\n",
        "  f1_score_w=metrics.f1_score(y_test,pred_test,average='weighted')\n",
        "  recall_score=metrics.recall_score(y_test,pred_test,average='macro')\n",
        "  my_metrics=[nChunks,acc, f1_score_w,recall_score]\n",
        "  \n",
        "  return [round(metric,4) for metric in my_metrics]\n",
        "\n",
        "    "
      ],
      "execution_count": 0,
      "outputs": []
    },
    {
      "cell_type": "code",
      "metadata": {
        "id": "NAZzO7iaA8Mu",
        "colab_type": "code",
        "outputId": "add18f8a-21ef-4dad-8585-32ff5433cf16",
        "colab": {
          "base_uri": "https://localhost:8080/",
          "height": 180
        }
      },
      "source": [
        "tfidf_svm_metrics=np.zeros(shape=(10,4))\n",
        "\n",
        "for chunk in range(1,11):\n",
        "  tic=time.time()\n",
        "  tfidf_svm_metrics[chunk-1,]=svm_tfidf(train_df,test_df,chunk)\n",
        "  print('Chunks:{} Tiempo de procesamiento (secs):{}'.format(chunk,time.time()-tic))"
      ],
      "execution_count": 0,
      "outputs": [
        {
          "output_type": "stream",
          "text": [
            "[LibLinear]Chunks:1 Tiempo de procesamiento (secs):16.29813313484192\n",
            "[LibLinear]Chunks:2 Tiempo de procesamiento (secs):16.099305152893066\n",
            "[LibLinear]Chunks:3 Tiempo de procesamiento (secs):16.85771608352661\n",
            "[LibLinear]Chunks:4 Tiempo de procesamiento (secs):17.454655647277832\n",
            "[LibLinear]Chunks:5 Tiempo de procesamiento (secs):18.83827042579651\n",
            "[LibLinear]Chunks:6 Tiempo de procesamiento (secs):20.958776712417603\n",
            "[LibLinear]Chunks:7 Tiempo de procesamiento (secs):23.143767833709717\n",
            "[LibLinear]Chunks:8 Tiempo de procesamiento (secs):25.32626748085022\n",
            "[LibLinear]Chunks:9 Tiempo de procesamiento (secs):28.788745641708374\n",
            "[LibLinear]Chunks:10 Tiempo de procesamiento (secs):31.843759536743164\n"
          ],
          "name": "stdout"
        }
      ]
    },
    {
      "cell_type": "code",
      "metadata": {
        "id": "nqsEcp5kCJ7k",
        "colab_type": "code",
        "outputId": "b6447747-775a-4a87-b491-bc776330f13d",
        "colab": {
          "base_uri": "https://localhost:8080/",
          "height": 335
        }
      },
      "source": [
        "Tf_Idf_SVM=pd.DataFrame(tfidf_svm_metrics, columns=['Chunk','Acc','F1Score','Recall'])\n",
        "Tf_Idf_SVM"
      ],
      "execution_count": 0,
      "outputs": [
        {
          "output_type": "execute_result",
          "data": {
            "text/html": [
              "<div>\n",
              "<style scoped>\n",
              "    .dataframe tbody tr th:only-of-type {\n",
              "        vertical-align: middle;\n",
              "    }\n",
              "\n",
              "    .dataframe tbody tr th {\n",
              "        vertical-align: top;\n",
              "    }\n",
              "\n",
              "    .dataframe thead th {\n",
              "        text-align: right;\n",
              "    }\n",
              "</style>\n",
              "<table border=\"1\" class=\"dataframe\">\n",
              "  <thead>\n",
              "    <tr style=\"text-align: right;\">\n",
              "      <th></th>\n",
              "      <th>Chunk</th>\n",
              "      <th>Acc</th>\n",
              "      <th>F1Score</th>\n",
              "      <th>Recall</th>\n",
              "    </tr>\n",
              "  </thead>\n",
              "  <tbody>\n",
              "    <tr>\n",
              "      <th>0</th>\n",
              "      <td>1.0</td>\n",
              "      <td>0.8778</td>\n",
              "      <td>0.8728</td>\n",
              "      <td>0.6925</td>\n",
              "    </tr>\n",
              "    <tr>\n",
              "      <th>1</th>\n",
              "      <td>2.0</td>\n",
              "      <td>0.8778</td>\n",
              "      <td>0.8728</td>\n",
              "      <td>0.6925</td>\n",
              "    </tr>\n",
              "    <tr>\n",
              "      <th>2</th>\n",
              "      <td>3.0</td>\n",
              "      <td>0.8778</td>\n",
              "      <td>0.8728</td>\n",
              "      <td>0.6925</td>\n",
              "    </tr>\n",
              "    <tr>\n",
              "      <th>3</th>\n",
              "      <td>4.0</td>\n",
              "      <td>0.8778</td>\n",
              "      <td>0.8728</td>\n",
              "      <td>0.6925</td>\n",
              "    </tr>\n",
              "    <tr>\n",
              "      <th>4</th>\n",
              "      <td>5.0</td>\n",
              "      <td>0.8778</td>\n",
              "      <td>0.8728</td>\n",
              "      <td>0.6925</td>\n",
              "    </tr>\n",
              "    <tr>\n",
              "      <th>5</th>\n",
              "      <td>6.0</td>\n",
              "      <td>0.8778</td>\n",
              "      <td>0.8728</td>\n",
              "      <td>0.6925</td>\n",
              "    </tr>\n",
              "    <tr>\n",
              "      <th>6</th>\n",
              "      <td>7.0</td>\n",
              "      <td>0.8778</td>\n",
              "      <td>0.8728</td>\n",
              "      <td>0.6925</td>\n",
              "    </tr>\n",
              "    <tr>\n",
              "      <th>7</th>\n",
              "      <td>8.0</td>\n",
              "      <td>0.8753</td>\n",
              "      <td>0.8696</td>\n",
              "      <td>0.6829</td>\n",
              "    </tr>\n",
              "    <tr>\n",
              "      <th>8</th>\n",
              "      <td>9.0</td>\n",
              "      <td>0.8778</td>\n",
              "      <td>0.8715</td>\n",
              "      <td>0.6843</td>\n",
              "    </tr>\n",
              "    <tr>\n",
              "      <th>9</th>\n",
              "      <td>10.0</td>\n",
              "      <td>0.8778</td>\n",
              "      <td>0.8715</td>\n",
              "      <td>0.6843</td>\n",
              "    </tr>\n",
              "  </tbody>\n",
              "</table>\n",
              "</div>"
            ],
            "text/plain": [
              "   Chunk     Acc  F1Score  Recall\n",
              "0    1.0  0.8778   0.8728  0.6925\n",
              "1    2.0  0.8778   0.8728  0.6925\n",
              "2    3.0  0.8778   0.8728  0.6925\n",
              "3    4.0  0.8778   0.8728  0.6925\n",
              "4    5.0  0.8778   0.8728  0.6925\n",
              "5    6.0  0.8778   0.8728  0.6925\n",
              "6    7.0  0.8778   0.8728  0.6925\n",
              "7    8.0  0.8753   0.8696  0.6829\n",
              "8    9.0  0.8778   0.8715  0.6843\n",
              "9   10.0  0.8778   0.8715  0.6843"
            ]
          },
          "metadata": {
            "tags": []
          },
          "execution_count": 62
        }
      ]
    },
    {
      "cell_type": "code",
      "metadata": {
        "id": "BFcdDTnNPMsf",
        "colab_type": "code",
        "outputId": "48e7fca4-1120-4a52-a3e1-679559b9ee01",
        "colab": {
          "base_uri": "https://localhost:8080/",
          "height": 292
        }
      },
      "source": [
        "%matplotlib inline\n",
        "import matplotlib.pyplot as plt\n",
        "plt.style.use('seaborn-whitegrid')\n",
        "\n",
        "# multiple line plot\n",
        "plt.plot( 'Chunk', 'Acc', data=Tf_Idf_SVM, marker='o', markerfacecolor='blue' ,color='skyblue', linewidth=2)\n",
        "plt.plot( 'Chunk', 'F1Score', data=Tf_Idf_SVM, marker='o', color='red', linewidth=2)\n",
        "plt.plot( 'Chunk', 'Recall', data=Tf_Idf_SVM, marker='o', color='green', linewidth=2, linestyle='dashed')\n",
        "plt.legend()\n",
        "plt.xlabel(\"Chunks\")\n",
        "plt.ylabel(\"Rate\")"
      ],
      "execution_count": 0,
      "outputs": [
        {
          "output_type": "execute_result",
          "data": {
            "text/plain": [
              "Text(0, 0.5, 'Rate')"
            ]
          },
          "metadata": {
            "tags": []
          },
          "execution_count": 72
        },
        {
          "output_type": "display_data",
          "data": {
            "image/png": "[encoded data removed]",
            "text/plain": [
              "<Figure size 432x288 with 1 Axes>"
            ]
          },
          "metadata": {
            "tags": []
          }
        }
      ]
    },
    {
      "cell_type": "markdown",
      "metadata": {
        "id": "NlUQ9ULaExX5",
        "colab_type": "text"
      },
      "source": [
        "* Hacer una representación de grupos\n",
        "* Identificar términos relevantes\n"
      ]
    },
    {
      "cell_type": "markdown",
      "metadata": {
        "id": "FbtBKh4KExSz",
        "colab_type": "text"
      },
      "source": [
        ""
      ]
    },
    {
      "cell_type": "markdown",
      "metadata": {
        "id": "Thj95w2QXNCh",
        "colab_type": "text"
      },
      "source": [
        "## W2Vec-SVM (Google Embbeding)\n",
        "\n",
        "Se usa una representación entrenada por Google!\n",
        "\n",
        "\n"
      ]
    },
    {
      "cell_type": "code",
      "metadata": {
        "id": "RZjgGPf1XLta",
        "colab_type": "code",
        "colab": {}
      },
      "source": [
        "from gensim.models import KeyedVectors\n",
        "from gensim.test.utils import datapath"
      ],
      "execution_count": 0,
      "outputs": []
    },
    {
      "cell_type": "code",
      "metadata": {
        "id": "gxCrUuo4XX2j",
        "colab_type": "code",
        "outputId": "a5be1c94-d378-40df-8774-3daf6c79350b",
        "colab": {
          "base_uri": "https://localhost:8080/",
          "height": 196
        }
      },
      "source": [
        "#Download google word2vec pretrained embedding \n",
        "#Referencia:https://colab.research.google.com/drive/1CXdKsk9mvHiuFMRowELp0NDP5__bsuVy#scrollTo=1DOpgwk6Y3rW\n",
        "\n",
        "!wget -P /root/input/ -c \"https://s3.amazonaws.com/dl4j-distribution/GoogleNews-vectors-negative300.bin.gz\""
      ],
      "execution_count": 0,
      "outputs": [
        {
          "output_type": "stream",
          "text": [
            "--2019-10-13 04:10:25--  https://s3.amazonaws.com/dl4j-distribution/GoogleNews-vectors-negative300.bin.gz\n",
            "Resolving s3.amazonaws.com (s3.amazonaws.com)... 52.216.113.205\n",
            "Connecting to s3.amazonaws.com (s3.amazonaws.com)|52.216.113.205|:443... connected.\n",
            "HTTP request sent, awaiting response... 200 OK\n",
            "Length: 1647046227 (1.5G) [application/x-gzip]\n",
            "Saving to: ‘/root/input/GoogleNews-vectors-negative300.bin.gz’\n",
            "\n",
            "GoogleNews-vectors- 100%[===================>]   1.53G  16.5MB/s    in 97s     \n",
            "\n",
            "2019-10-13 04:12:03 (16.1 MB/s) - ‘/root/input/GoogleNews-vectors-negative300.bin.gz’ saved [1647046227/1647046227]\n",
            "\n"
          ],
          "name": "stdout"
        }
      ]
    },
    {
      "cell_type": "code",
      "metadata": {
        "id": "AwyzJPQ8YJIV",
        "colab_type": "code",
        "outputId": "ad32f0d5-0ab7-4d52-e683-96749971b981",
        "colab": {
          "base_uri": "https://localhost:8080/",
          "height": 86
        }
      },
      "source": [
        "dirW2VGoogle = '/root/input/GoogleNews-vectors-negative300.bin.gz'\n",
        "tic=time.time()\n",
        "model_google = KeyedVectors.load_word2vec_format(dirW2VGoogle, binary=True)\n",
        "print('Tiempo de procesamiento (secs): ', time.time()-tic)"
      ],
      "execution_count": 0,
      "outputs": [
        {
          "output_type": "stream",
          "text": [
            "/usr/local/lib/python3.6/dist-packages/smart_open/smart_open_lib.py:398: UserWarning: This function is deprecated, use smart_open.open instead. See the migration notes for details: https://github.com/RaRe-Technologies/smart_open/blob/master/README.rst#migrating-to-the-new-open-function\n",
            "  'See the migration notes for details: %s' % _MIGRATION_NOTES_URL\n"
          ],
          "name": "stderr"
        },
        {
          "output_type": "stream",
          "text": [
            "Tiempo de procesamiento (secs):  118.19308805465698\n"
          ],
          "name": "stdout"
        }
      ]
    },
    {
      "cell_type": "code",
      "metadata": {
        "id": "CFP_IMVRYlbe",
        "colab_type": "code",
        "colab": {}
      },
      "source": [
        "# Se obtiene las representaciones de los vectores de Google\n",
        "def w2v_google(word,model=model_google):\n",
        "    if word not in model.vocab:\n",
        "        return 300*[0]\n",
        "    else:\n",
        "        return model[word]\n",
        "\n"
      ],
      "execution_count": 0,
      "outputs": []
    },
    {
      "cell_type": "code",
      "metadata": {
        "id": "nZg4Fs-2E-m6",
        "colab_type": "code",
        "colab": {}
      },
      "source": [
        "# Dado un número devuelve su reciproco, si es cero se devuelve cero\n",
        "def mydiag(x):\n",
        "    if x==0:\n",
        "        return (0)\n",
        "    else:\n",
        "        return (1/x)"
      ],
      "execution_count": 0,
      "outputs": []
    },
    {
      "cell_type": "code",
      "metadata": {
        "id": "6CWg_NTPY5fU",
        "colab_type": "code",
        "colab": {}
      },
      "source": [
        "\n",
        "def W2Vg_SVM(train,test,nChunks=1):\n",
        " \n",
        "  # Generar datos\n",
        "    x_train=generate_data(train,nChunks)\n",
        "    y_train=train['Depress'].values\n",
        "    x_test=generate_data(test,nChunks)\n",
        "    y_test=test['Depress'].values\n",
        "  \n",
        "    # Ajustar BoW\n",
        "    vectorizer_bow = CountVectorizer(max_features=1000)\n",
        "    BoW = vectorizer_bow.fit_transform(x_train)\n",
        "\n",
        "    # Obtener vocabulario \n",
        "    vocabulary=vectorizer_bow.get_feature_names()\n",
        "    \n",
        "    # Contenedor de las representaciones por palabras\n",
        "    # El emmbedding tiene dimension 300, vamos a crear una matriz de embbeding\n",
        "    # Con dimensiones (#nVocab,300)\n",
        "    weigth_google=np.empty((0,300), float)\n",
        "   \n",
        "\n",
        "    # Obtener representaciones del vocabulario (matriz de embbedings)\n",
        "    for word in vocabulary:\n",
        "        weigth_google = np.vstack([weigth_google, w2v_google(word)])\n",
        "             \n",
        "    #Auxiliares de entrenamiento: Se obtiene una representación promedio\n",
        "    # de cada documento en función de la cantidad de palabras\n",
        "    # Una combinación lineal con la matriz de embbedings\n",
        "    \n",
        "    DocTec=BoW.toarray()    \n",
        "    diag=np.diag(list(map(mydiag,DocTec.sum(axis=1))))\n",
        "    \n",
        "    # Datos para entrenamiento\n",
        "    X_train_google=diag@DocTec@weigth_google\n",
        "   \n",
        "    # Datos para prueba\n",
        "    Bow_test=vectorizer_bow.transform(x_test)\n",
        "    DocTec_test=Bow_test.toarray()\n",
        "    diag=np.diag(list(map(mydiag,DocTec_test.sum(axis=1))))\n",
        "    X_test_google=diag@DocTec_test@weigth_google\n",
        "   \n",
        "    \n",
        "    # SVM\n",
        "    \n",
        "    #  Ajustar clasificador\n",
        "    clf_google = LinearSVC(tol=1e-5,C=1.0, class_weight='balanced', dual=True, fit_intercept=True,\n",
        "         intercept_scaling=1, loss='squared_hinge', max_iter=1000,\n",
        "         multi_class='ovr', penalty='l2', random_state=1013, verbose=2)\n",
        " \n",
        "    #Ajustar  modelo SVM-W2V-Google\n",
        "    clf_google.fit(X_train_google,y_train)\n",
        "    \n",
        "    # Valores de prueba Google\n",
        "    pred_test_google=clf_google.predict(X_test_google)\n",
        "    \n",
        "    # Métricas Google\n",
        "    acc_g=metrics.accuracy_score(y_test,pred_test_google)\n",
        "    f1_score_g=metrics.f1_score(y_test,pred_test_google,average='weighted')\n",
        "    recall_score_g=metrics.recall_score(y_test,pred_test_google,average='macro')\n",
        "    \n",
        "    metrics_g=[nChunks,acc_g, f1_score_g,recall_score_g]\n",
        "    \n",
        "    \n",
        "    return [round(metric,3) for metric in metrics_g]\n"
      ],
      "execution_count": 0,
      "outputs": []
    },
    {
      "cell_type": "code",
      "metadata": {
        "id": "w7VLp_hNSGqn",
        "colab_type": "code",
        "outputId": "b1f9eac1-7a89-42fe-ce92-12960f3282d6",
        "colab": {
          "base_uri": "https://localhost:8080/",
          "height": 33
        }
      },
      "source": [
        "w2v_svm_metrics=np.zeros(shape=(10,4))\n",
        "\n",
        "for chunk in range(1,11):\n",
        "  tic=time.time()\n",
        "  w2v_svm_metrics[chunk-1,]=W2Vg_SVM(train_df,test_df,chunk)\n",
        "  print('Chunks:{} Tiempo de procesamiento (secs):{}'.format(chunk,time.time()-tic))"
      ],
      "execution_count": 0,
      "outputs": [
        {
          "output_type": "stream",
          "text": [
            "[LibLinear][LibLinear][LibLinear][LibLinear][LibLinear][LibLinear][LibLinear][LibLinear][LibLinear][LibLinear]"
          ],
          "name": "stdout"
        }
      ]
    },
    {
      "cell_type": "code",
      "metadata": {
        "id": "sBwgarloSFyI",
        "colab_type": "code",
        "outputId": "e9a6b487-d14a-46d1-b80c-4d72efce8b9f",
        "colab": {
          "base_uri": "https://localhost:8080/",
          "height": 335
        }
      },
      "source": [
        "W2v_SVM=pd.DataFrame(w2v_svm_metrics, columns=['Chunks','Acc','F1Score','Recall'])\n",
        "W2v_SVM"
      ],
      "execution_count": 0,
      "outputs": [
        {
          "output_type": "execute_result",
          "data": {
            "text/html": [
              "<div>\n",
              "<style scoped>\n",
              "    .dataframe tbody tr th:only-of-type {\n",
              "        vertical-align: middle;\n",
              "    }\n",
              "\n",
              "    .dataframe tbody tr th {\n",
              "        vertical-align: top;\n",
              "    }\n",
              "\n",
              "    .dataframe thead th {\n",
              "        text-align: right;\n",
              "    }\n",
              "</style>\n",
              "<table border=\"1\" class=\"dataframe\">\n",
              "  <thead>\n",
              "    <tr style=\"text-align: right;\">\n",
              "      <th></th>\n",
              "      <th>Chunks</th>\n",
              "      <th>Acc</th>\n",
              "      <th>F1Score</th>\n",
              "      <th>Recall</th>\n",
              "    </tr>\n",
              "  </thead>\n",
              "  <tbody>\n",
              "    <tr>\n",
              "      <th>0</th>\n",
              "      <td>1.0</td>\n",
              "      <td>0.753</td>\n",
              "      <td>0.786</td>\n",
              "      <td>0.695</td>\n",
              "    </tr>\n",
              "    <tr>\n",
              "      <th>1</th>\n",
              "      <td>2.0</td>\n",
              "      <td>0.753</td>\n",
              "      <td>0.786</td>\n",
              "      <td>0.695</td>\n",
              "    </tr>\n",
              "    <tr>\n",
              "      <th>2</th>\n",
              "      <td>3.0</td>\n",
              "      <td>0.788</td>\n",
              "      <td>0.813</td>\n",
              "      <td>0.723</td>\n",
              "    </tr>\n",
              "    <tr>\n",
              "      <th>3</th>\n",
              "      <td>4.0</td>\n",
              "      <td>0.791</td>\n",
              "      <td>0.815</td>\n",
              "      <td>0.724</td>\n",
              "    </tr>\n",
              "    <tr>\n",
              "      <th>4</th>\n",
              "      <td>5.0</td>\n",
              "      <td>0.798</td>\n",
              "      <td>0.822</td>\n",
              "      <td>0.737</td>\n",
              "    </tr>\n",
              "    <tr>\n",
              "      <th>5</th>\n",
              "      <td>6.0</td>\n",
              "      <td>0.798</td>\n",
              "      <td>0.820</td>\n",
              "      <td>0.720</td>\n",
              "    </tr>\n",
              "    <tr>\n",
              "      <th>6</th>\n",
              "      <td>7.0</td>\n",
              "      <td>0.813</td>\n",
              "      <td>0.834</td>\n",
              "      <td>0.753</td>\n",
              "    </tr>\n",
              "    <tr>\n",
              "      <th>7</th>\n",
              "      <td>8.0</td>\n",
              "      <td>0.820</td>\n",
              "      <td>0.842</td>\n",
              "      <td>0.790</td>\n",
              "    </tr>\n",
              "    <tr>\n",
              "      <th>8</th>\n",
              "      <td>9.0</td>\n",
              "      <td>0.813</td>\n",
              "      <td>0.836</td>\n",
              "      <td>0.786</td>\n",
              "    </tr>\n",
              "    <tr>\n",
              "      <th>9</th>\n",
              "      <td>10.0</td>\n",
              "      <td>0.820</td>\n",
              "      <td>0.842</td>\n",
              "      <td>0.790</td>\n",
              "    </tr>\n",
              "  </tbody>\n",
              "</table>\n",
              "</div>"
            ],
            "text/plain": [
              "   Chunks    Acc  F1Score  Recall\n",
              "0     1.0  0.753    0.786   0.695\n",
              "1     2.0  0.753    0.786   0.695\n",
              "2     3.0  0.788    0.813   0.723\n",
              "3     4.0  0.791    0.815   0.724\n",
              "4     5.0  0.798    0.822   0.737\n",
              "5     6.0  0.798    0.820   0.720\n",
              "6     7.0  0.813    0.834   0.753\n",
              "7     8.0  0.820    0.842   0.790\n",
              "8     9.0  0.813    0.836   0.786\n",
              "9    10.0  0.820    0.842   0.790"
            ]
          },
          "metadata": {
            "tags": []
          },
          "execution_count": 84
        }
      ]
    },
    {
      "cell_type": "code",
      "metadata": {
        "id": "jLlILhCWZs5z",
        "colab_type": "code",
        "outputId": "3833a6a9-974c-46ff-e734-bc1ae6627363",
        "colab": {
          "base_uri": "https://localhost:8080/",
          "height": 292
        }
      },
      "source": [
        "%matplotlib inline\n",
        "import matplotlib.pyplot as plt\n",
        "plt.style.use('seaborn-whitegrid')\n",
        "\n",
        "# multiple line plot\n",
        "plt.plot( 'Chunks', 'Acc', data=W2v_SVM, marker='v', color='cornflowerblue', linewidth=2)\n",
        "plt.plot( 'Chunks', 'F1Score', data=W2v_SVM, marker='v', color='darkred', linewidth=2)\n",
        "plt.plot( 'Chunks', 'Recall', data=W2v_SVM, marker='v', color='darkorange', linewidth=2)\n",
        "plt.xlabel(\"Chunks\")\n",
        "plt.ylabel(\"Rate\")\n",
        "plt.legend()"
      ],
      "execution_count": 0,
      "outputs": [
        {
          "output_type": "execute_result",
          "data": {
            "text/plain": [
              "<matplotlib.legend.Legend at 0x7f2e561074a8>"
            ]
          },
          "metadata": {
            "tags": []
          },
          "execution_count": 86
        },
        {
          "output_type": "display_data",
          "data": {
            "image/png": "[encoded data removed]",
            "text/plain": [
              "<Figure size 432x288 with 1 Axes>"
            ]
          },
          "metadata": {
            "tags": []
          }
        }
      ]
    }
  ]
}